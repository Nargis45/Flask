{
  "nbformat": 4,
  "nbformat_minor": 0,
  "metadata": {
    "colab": {
      "provenance": [],
      "authorship_tag": "ABX9TyPLT1fbjFIAoiph0e5lPlbW",
      "include_colab_link": true
    },
    "kernelspec": {
      "name": "python3",
      "display_name": "Python 3"
    },
    "language_info": {
      "name": "python"
    }
  },
  "cells": [
    {
      "cell_type": "markdown",
      "metadata": {
        "id": "view-in-github",
        "colab_type": "text"
      },
      "source": [
        "<a href=\"https://colab.research.google.com/github/Nargis45/Flask/blob/main/html_with_flask.ipynb\" target=\"_parent\"><img src=\"https://colab.research.google.com/assets/colab-badge.svg\" alt=\"Open In Colab\"/></a>"
      ]
    },
    {
      "cell_type": "code",
      "execution_count": null,
      "metadata": {
        "id": "7uoFqP6jC5DW"
      },
      "outputs": [],
      "source": [
        "!pip install pyngrok==4.1.1\n",
        "!ngrok authtoken 2HVNEu9uti8N9DLOfpDjJeCgjT6_4G5AuRd7CWhZWnf5pAdBf"
      ]
    },
    {
      "cell_type": "code",
      "source": [
        "!pip install flask-ngrok"
      ],
      "metadata": {
        "id": "5Wc25OMOC53m"
      },
      "execution_count": null,
      "outputs": []
    },
    {
      "cell_type": "code",
      "source": [
        "#integrate html with flask\n",
        "#http verb GET and POST\n",
        "\n",
        "from flask_ngrok import run_with_ngrok\n",
        "from flask import Flask,redirect,url_for,render_template,request\n",
        "#WSGI APPLICATION\n",
        "app = Flask(__name__,template_folder='/content/sample_data/templates')\n",
        "run_with_ngrok(app)\n",
        "\n",
        "#@app.route(rule,option)\n",
        "@app.route('/')\n",
        "def welcome():\n",
        "  return render_template('index.html')\n",
        "\n",
        "#result checker submit html page\n",
        "@app.route('/submit',methods=['POST','GET'])\n",
        "def submit():\n",
        "  total_score=0\n",
        "  if request.method=='POST':\n",
        "    science=float(request.form['science'])\n",
        "    maths=float(request.form['maths'])\n",
        "    c=float(request.form['c'])\n",
        "    data_science=float(request.form['datascience'])\n",
        "    total_score=(science+maths+c+data_science)/4\n",
        "  return redirect(url_for('success',score=total_score))\n",
        "\n",
        "\n",
        "@app.route('/success/<int:score>')\n",
        "def success(score):\n",
        "  res=''\n",
        "  if score>=50:\n",
        "    res='PASS'\n",
        "  else:\n",
        "    res='FAIL'\n",
        "  return render_template('result.html',result=res)\n",
        "\n",
        "if __name__=='__main__':\n",
        "  app.run()"
      ],
      "metadata": {
        "id": "e9BYhyy_DhlF",
        "colab": {
          "base_uri": "https://localhost:8080/"
        },
        "outputId": "9aabff6e-7d37-4e50-c7bb-eb67a0ee963f"
      },
      "execution_count": 15,
      "outputs": [
        {
          "output_type": "stream",
          "name": "stdout",
          "text": [
            " * Serving Flask app \"__main__\" (lazy loading)\n",
            " * Environment: production\n",
            "\u001b[31m   WARNING: This is a development server. Do not use it in a production deployment.\u001b[0m\n",
            "\u001b[2m   Use a production WSGI server instead.\u001b[0m\n",
            " * Debug mode: off\n"
          ]
        },
        {
          "output_type": "stream",
          "name": "stderr",
          "text": [
            "INFO:werkzeug: * Running on http://127.0.0.1:5000/ (Press CTRL+C to quit)\n"
          ]
        },
        {
          "output_type": "stream",
          "name": "stdout",
          "text": [
            " * Running on http://4c38-35-199-178-39.ngrok.io\n",
            " * Traffic stats available on http://127.0.0.1:4040\n"
          ]
        },
        {
          "output_type": "stream",
          "name": "stderr",
          "text": [
            "INFO:werkzeug:127.0.0.1 - - [18/Nov/2022 05:52:45] \"\u001b[37mGET / HTTP/1.1\u001b[0m\" 200 -\n",
            "INFO:werkzeug:127.0.0.1 - - [18/Nov/2022 05:52:45] \"\u001b[33mGET /favicon.ico HTTP/1.1\u001b[0m\" 404 -\n",
            "INFO:werkzeug:127.0.0.1 - - [18/Nov/2022 05:52:54] \"\u001b[32mGET /submit?science=98&maths=98&c=98&datascience=98 HTTP/1.1\u001b[0m\" 302 -\n",
            "INFO:werkzeug:127.0.0.1 - - [18/Nov/2022 05:52:55] \"\u001b[37mGET /success/0 HTTP/1.1\u001b[0m\" 200 -\n"
          ]
        }
      ]
    },
    {
      "cell_type": "code",
      "source": [],
      "metadata": {
        "id": "8ZNG_SwHFTK8"
      },
      "execution_count": null,
      "outputs": []
    }
  ]
}